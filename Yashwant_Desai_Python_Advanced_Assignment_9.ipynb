{
 "cells": [
  {
   "cell_type": "markdown",
   "id": "0c27a818",
   "metadata": {},
   "source": [
    "# Yashwant Desai –  Python_Advanced_Assignment_9"
   ]
  },
  {
   "cell_type": "markdown",
   "id": "120fbd4e",
   "metadata": {},
   "source": [
    "# Q1. In Python 3.X, what are the names and functions of string object types?"
   ]
  },
  {
   "cell_type": "markdown",
   "id": "94067095",
   "metadata": {},
   "source": [
    "Below are some common string object types functions. \n",
    "\n",
    "str.upper(): Converts the string to uppercase.\n",
    "\n",
    "str.lower(): Converts the string to lowercase.\n",
    "\n",
    "str.strip(): Removes leading and trailing whitespace.\n",
    "\n",
    "str.split(): Splits the string into a list of substrings based on whitespace.\n",
    "\n",
    "str.replace(): Replaces a substring with another substring.\n",
    "\n",
    "str.startswith(): Checks if the string starts with a specified prefix.\n",
    "\n",
    "str.endswith(): Checks if the string ends with a specified suffix.\n",
    "\n",
    "str.find(): Finds the index of a substring in the string.\n",
    "\n",
    "str.count(): Counts the number of occurrences of a substring in the string.\n"
   ]
  },
  {
   "cell_type": "code",
   "execution_count": 1,
   "id": "bb8762d8",
   "metadata": {},
   "outputs": [
    {
     "name": "stdout",
     "output_type": "stream",
     "text": [
      "text: Hello,Yash   \n",
      "text.upper: HELLO,YASH   \n",
      "text.lower: hello,yash   \n",
      "text.strip: Hello,Yash\n",
      "text.split: ['Hello,Yash']\n",
      "text.replace: Hello,Desai\n",
      "text.startswith_Hello: True\n",
      "text.endswith check exclamation: False\n",
      "text.find index of comma : 5\n",
      "text.count Y : 1\n"
     ]
    }
   ],
   "source": [
    "text = \"Hello,Yash   \"\n",
    "print(f\"text: {text}\")\n",
    "\n",
    "upper_text = text.upper()\n",
    "print(f\"text.upper: {text.upper()}\")\n",
    "\n",
    "lower_text = text.lower()\n",
    "print(f\"text.lower: {text.lower()}\")\n",
    "\n",
    "stripped_text = text.strip()\n",
    "print(f\"text.strip: {stripped_text}\")\n",
    "\n",
    "split_text = text.split()\n",
    "print(f\"text.split: {split_text}\")\n",
    "\n",
    "text1 = \"Hello,Yash\"\n",
    "replace_text = text1.replace(\"Yash\", \"Desai\")\n",
    "print(f\"text.replace: {replace_text}\")\n",
    "\n",
    "starts_with_Hello = text.startswith(\"Hello\")\n",
    "print(f\"text.startswith_Hello: {starts_with_Hello}\")\n",
    "\n",
    "ends_with_exclamation = text.endswith(\"!\")\n",
    "print(f\"text.endswith check exclamation: {ends_with_exclamation}\")\n",
    "\n",
    "index_of_comma = text.find(\",\")\n",
    "print(f\"text.find index of comma : {index_of_comma}\")\n",
    "\n",
    "count_of_y = text.count(\"Y\")\n",
    "print(f\"text.count Y : {count_of_y}\")\n"
   ]
  },
  {
   "cell_type": "markdown",
   "id": "1f9a8548",
   "metadata": {},
   "source": [
    "# Q2. How do the string forms in Python 3.X vary in terms of operations?"
   ]
  },
  {
   "cell_type": "raw",
   "id": "4af6d9fb",
   "metadata": {},
   "source": [
    "We can create strings using single quotes ('), double quotes (\"), or triple quotes (''' or \"\"\"). They all serve the same basic purpose of representing text but their differences are mainly in handling special characters and multiline strings.\n",
    "\n",
    "Single-quoted strings are enclosed in single quotation marks and can freely use double quotes inside.\n",
    "Double-quoted strings are enclosed in double quotation marks and can freely use single quotes inside.\n",
    "Triple-quoted strings are enclosed in either three single or three double quotation marks allowing for multiline strings without escape sequences and flexibility with single and double quotes."
   ]
  },
  {
   "cell_type": "code",
   "execution_count": 2,
   "id": "ed1ce511",
   "metadata": {},
   "outputs": [
    {
     "name": "stdout",
     "output_type": "stream",
     "text": [
      "single_quoted = This is a single-quoted string.\n",
      "double_quoted = This is a double-quoted string.\n",
      "triple_quoted = This is a triple-quoted string.\n",
      "It can span multiple lines without issues.\n",
      "You can use single ('') and double (\"\") quotes freely within.\n"
     ]
    }
   ],
   "source": [
    "single_quoted = 'This is a single-quoted string.'\n",
    "print(f\"single_quoted = {single_quoted}\")\n",
    "double_quoted = \"This is a double-quoted string.\"\n",
    "print(f\"double_quoted = {double_quoted}\")\n",
    "triple_quoted = '''This is a triple-quoted string.\n",
    "It can span multiple lines without issues.\n",
    "You can use single ('') and double (\"\") quotes freely within.'''\n",
    "print(f\"triple_quoted = {triple_quoted}\")"
   ]
  },
  {
   "cell_type": "markdown",
   "id": "aeb3054a",
   "metadata": {},
   "source": [
    "# Q3. In 3.X, how do you put non-ASCII Unicode characters in a string?"
   ]
  },
  {
   "cell_type": "markdown",
   "id": "33b1876e",
   "metadata": {},
   "source": [
    "We can include non-ASCII Unicode characters in a string by using unicode escape sequences or by directly entering the characters if the source code file is encoded in a compatible encoding\n",
    "\n",
    "1 unicode escape sequences:We can represent unicode characters in strings using escape sequences like \\u\n",
    "\n",
    "2 direct input (UTF-8 encoded source code): We can directly include non-ASCII characters in the string without using escape\n",
    "\n",
    "3 using unicode escape sequences in bytes literal: We can also use the b prefix to create bytes literals and use escape sequences to represent non-ASCII characters"
   ]
  },
  {
   "cell_type": "code",
   "execution_count": 3,
   "id": "8b8e5a9e",
   "metadata": {},
   "outputs": [
    {
     "name": "stdout",
     "output_type": "stream",
     "text": [
      "Samé\n",
      "Samé\n"
     ]
    }
   ],
   "source": [
    "user_string = \"Sam\\u00E9\"\n",
    "print(user_string)\n",
    "user_string1 = \"Samé\"\n",
    "print(user_string1)"
   ]
  },
  {
   "cell_type": "code",
   "execution_count": 4,
   "id": "92359cc1",
   "metadata": {},
   "outputs": [
    {
     "name": "stdout",
     "output_type": "stream",
     "text": [
      "Detected encoding: ISO-8859-1\n",
      "Samé\n"
     ]
    }
   ],
   "source": [
    "import chardet\n",
    "byte_literal1 = b'Sam\\xe9'\n",
    "result = chardet.detect(byte_literal1)\n",
    "encoding = result['encoding']\n",
    "print(f\"Detected encoding: {encoding}\")\n",
    "decoded_string = str(byte_literal1, 'iso-8859-1')\n",
    "print(decoded_string)\n"
   ]
  },
  {
   "cell_type": "markdown",
   "id": "dce31748",
   "metadata": {},
   "source": [
    "# Q4. In Python 3.X, what are the key differences between text-mode and binary-mode files?"
   ]
  },
  {
   "cell_type": "markdown",
   "id": "44c8e909",
   "metadata": {},
   "source": [
    "Below are the key differences between text mode and binary mode files\n",
    "\n",
    "1 The text mode is mainly for reading or writing text data however binary mode files are opened for reading or writing binary data mainly non text file e.g. images,audio etc.\n",
    "\n",
    "2 In text mode python automatically performs newline translation but in binary mode no newline translation is performed.\n",
    "\n",
    "3 Binary mode deals with raw binary data and does not perform newline translation. Text mode on the other hand performs newline translation."
   ]
  },
  {
   "cell_type": "code",
   "execution_count": 5,
   "id": "c45ae2bf",
   "metadata": {},
   "outputs": [],
   "source": [
    "with open('test.txt', 'rt') as file:\n",
    "    content = file.read()"
   ]
  },
  {
   "cell_type": "code",
   "execution_count": 6,
   "id": "df442278",
   "metadata": {},
   "outputs": [],
   "source": [
    "with open('test.bin', 'rb') as file:\n",
    "    binary_data = file.read()"
   ]
  },
  {
   "cell_type": "markdown",
   "id": "98902cde",
   "metadata": {},
   "source": [
    "# Q5. How can you interpret a Unicode text file containing text encoded in a different encoding than your platform's default?"
   ]
  },
  {
   "cell_type": "markdown",
   "id": "6ddd0357",
   "metadata": {},
   "source": [
    "To interpret a unicode text file containing text encoded in a different encoding than your platform's default in python use the \"codecs\" mdule or the \"open()\" function with the encoding parameter. "
   ]
  },
  {
   "cell_type": "code",
   "execution_count": 7,
   "id": "f5a166e6",
   "metadata": {},
   "outputs": [],
   "source": [
    "import codecs\n",
    "source_encoding = 'iso-8859-1'\n",
    "with codecs.open('test.txt', 'r', encoding=source_encoding) as file:\n",
    "    content = file.read()"
   ]
  },
  {
   "cell_type": "code",
   "execution_count": 8,
   "id": "8d5e5f73",
   "metadata": {},
   "outputs": [],
   "source": [
    "source_encoding = 'iso-8859-1'\n",
    "with open('test.txt', 'r', encoding=source_encoding) as file:\n",
    "    content = file.read()"
   ]
  },
  {
   "cell_type": "markdown",
   "id": "d62004a9",
   "metadata": {},
   "source": [
    "# Q6. What is the best way to make a Unicode text file in a particular encoding format?"
   ]
  },
  {
   "cell_type": "markdown",
   "id": "7550a793",
   "metadata": {},
   "source": [
    "To create a Unicode text file in a specific encoding format in Python we can use the open() function with the encoding parameter set to the desired encoding."
   ]
  },
  {
   "cell_type": "code",
   "execution_count": 9,
   "id": "eb9f82b8",
   "metadata": {},
   "outputs": [],
   "source": [
    "# 1 specify the desired encoding\n",
    "target_encoding = 'utf-8'  # 1a replace with the encoding you want\n",
    "\n",
    "# 2 text content you want to write to the file\n",
    "text_content = \"This is some unicode text in the desired encoding.\"\n",
    "\n",
    "# 3 create and write to the file using the specified encoding\n",
    "with open('output_file.txt', 'w', encoding=target_encoding) as file:\n",
    "    file.write(text_content)"
   ]
  },
  {
   "cell_type": "markdown",
   "id": "e07845bf",
   "metadata": {},
   "source": [
    "# Q7. What qualifies ASCII text as a form of Unicode text?"
   ]
  },
  {
   "cell_type": "markdown",
   "id": "a1b432df",
   "metadata": {},
   "source": [
    "ASCII text qualifies as a form of unicode text because ASCII characters are a subset of Unicode characters. Unicode encoding standards such as UTF-8 encompass the ASCII character set allowing you to work with ASCII text as Unicode text without any issues."
   ]
  },
  {
   "cell_type": "code",
   "execution_count": 10,
   "id": "991300cd",
   "metadata": {},
   "outputs": [],
   "source": [
    "ascii_text = \"Hello, ASCII!\"\n",
    "unicode_text = \"Hello, Unicode!\"\n",
    "\n",
    "combined_text = ascii_text + unicode_text\n",
    "\n",
    "utf8_encoded = ascii_text.encode('utf-8') \n",
    "decoded_ascii = utf8_encoded.decode('utf-8')"
   ]
  },
  {
   "cell_type": "markdown",
   "id": "c6e1b6bf",
   "metadata": {},
   "source": [
    "# Q8. How much of an effect does the change in string types in Python 3.X have on your code?"
   ]
  },
  {
   "cell_type": "markdown",
   "id": "89f4d046",
   "metadata": {},
   "source": [
    "Below are some key aspects of the changeand their effect on code.\n",
    "\n",
    "Unicode by Default in Python 3:\n",
    "\n",
    "In Python 2 strings were a sequence of bytes and Unicode strings were represented using a u prefix.\n",
    "In Python 3 strings are Unicode text by default and you need to use b prefixes to create byte strings explicitly.\n",
    "Impact: Code that worked with non-ASCII characters and assumed that strings were ASCII may need adjustments. Python 3's Unicode handling is generally more robust but can require changes in how you handle text data.\n",
    "\n",
    "Byte vs. Text Distinction:\n",
    "\n",
    "Python 3 distinguishes between binary data and text data more explicitly. This can require you to use the appropriate type (bytes or str) for your data.\n",
    "Impact: Code that mixed byte and text data without explicit encoding and decoding may need modifications to maintain clear separation between bytes and text.\n",
    "Print Function:\n",
    "\n",
    "In Python 2 the print statement was used for outputting text.\n",
    "In Python 3 print() is a function and requires parentheses for the argument.\n",
    "Impact: You'll need to update print statements to use the print() function syntax.\n",
    "\n",
    "encode() and decode() Methods:\n",
    "\n",
    "In Python 3 the encode() method converts Unicode text to bytes, and the decode() method converts bytes to Unicode text. In Python 2 the methods were called str.encode() and unicode.decode().\n",
    "Impact: Code that relies on these methods may need to be adjusted for Python 3 compatibility.\n",
    "\n",
    "File I/O and Encodings:\n",
    "\n",
    "Python 3 emphasizes specifying the encoding when reading from or writing to files. In Python 2 files were often opened in binary mode and the encoding was not always explicitly specified.\n",
    "Impact: You'll need to specify encodings correctly for file I/O operations in Python 3.\n",
    "\n",
    "Iterating Over Strings:\n",
    "\n",
    "In Python 3 when you iterate over a string using a for loop, you get individual Unicode characters.\n",
    "In Python 2 iterating over a string produced bytes.\n",
    "Impact: Code that relied on iterating over bytes in Python 2 may need adjustments to handle Unicode characters correctly in Python 3.\n",
    "\n",
    "Library Compatibility:\n",
    "\n",
    "Some libraries and third-party modules may not have been updated for Python 3 which can impact your code if you rely on them.\n",
    "Impact: You may need to find Python 3-compatible alternatives or adapt existing libraries as necessary."
   ]
  },
  {
   "cell_type": "markdown",
   "id": "a04469f9",
   "metadata": {},
   "source": [
    "# Done Regards,Yashwant"
   ]
  }
 ],
 "metadata": {
  "kernelspec": {
   "display_name": "Python 3 (ipykernel)",
   "language": "python",
   "name": "python3"
  },
  "language_info": {
   "codemirror_mode": {
    "name": "ipython",
    "version": 3
   },
   "file_extension": ".py",
   "mimetype": "text/x-python",
   "name": "python",
   "nbconvert_exporter": "python",
   "pygments_lexer": "ipython3",
   "version": "3.9.13"
  }
 },
 "nbformat": 4,
 "nbformat_minor": 5
}
